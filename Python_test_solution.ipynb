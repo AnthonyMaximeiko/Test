{
 "cells": [
  {
   "cell_type": "code",
   "execution_count": 4,
   "metadata": {},
   "outputs": [],
   "source": [
    "import pandas as pd"
   ]
  },
  {
   "cell_type": "markdown",
   "metadata": {},
   "source": [
    "### Задание 1:\n",
    "a. Откройте файл Product_Sales.csv и выведите первые 10 строк.\n",
    "b. Посмотрите на данные и скажите, что они из себя представляют.\n",
    "c. Cколько в таблице строк и полей? \n",
    "d. Какие типы данных есть в датасете? \n",
    "e. Есть ли пустые значения?"
   ]
  },
  {
   "cell_type": "code",
   "execution_count": null,
   "metadata": {},
   "outputs": [],
   "source": [
    "# invoice_num: Номер счета\n",
    "# customer_id: ID клиента\n",
    "# gender: Пол клиента\n",
    "# age: Возраст клиента\n",
    "# category: Категория товара\n",
    "# quantity: Количество проданных товаров в рамках одного счета\n",
    "# selling_price_per_unit: Стоимость продажи 1 ед.товара\n",
    "# cost_price_per_unit: Себестоимость 1 ед.товара\n",
    "# region: Регион\n",
    "# state: Штат\n",
    "# shopping_mall: Магазин"
   ]
  },
  {
   "cell_type": "markdown",
   "metadata": {},
   "source": [
    "b. Данные файла Product_Sales.csv содержат информацию о продажах товаров, \n",
    "   с указанием гендерных групп покупателей  и разделением по географическому расположению сбыта \n",
    "   Вывод пустых значений выполнил поколоночно."
   ]
  },
  {
   "cell_type": "code",
   "execution_count": 76,
   "metadata": {},
   "outputs": [
    {
     "data": {
      "text/html": [
       "<div>\n",
       "<style scoped>\n",
       "    .dataframe tbody tr th:only-of-type {\n",
       "        vertical-align: middle;\n",
       "    }\n",
       "\n",
       "    .dataframe tbody tr th {\n",
       "        vertical-align: top;\n",
       "    }\n",
       "\n",
       "    .dataframe thead th {\n",
       "        text-align: right;\n",
       "    }\n",
       "</style>\n",
       "<table border=\"1\" class=\"dataframe\">\n",
       "  <thead>\n",
       "    <tr style=\"text-align: right;\">\n",
       "      <th></th>\n",
       "      <th>invoice_num</th>\n",
       "      <th>invoice_date</th>\n",
       "      <th>customer_id</th>\n",
       "      <th>gender</th>\n",
       "      <th>age</th>\n",
       "      <th>category</th>\n",
       "      <th>quantity</th>\n",
       "      <th>selling_price_per_unit</th>\n",
       "      <th>cost_price_per_unit</th>\n",
       "      <th>region</th>\n",
       "      <th>state</th>\n",
       "      <th>shopping_mall</th>\n",
       "    </tr>\n",
       "  </thead>\n",
       "  <tbody>\n",
       "    <tr>\n",
       "      <th>99939</th>\n",
       "      <td>I301404</td>\n",
       "      <td>10/30/2016 11:44</td>\n",
       "      <td>C232103</td>\n",
       "      <td>Male</td>\n",
       "      <td>40.0</td>\n",
       "      <td>Clothing</td>\n",
       "      <td>3</td>\n",
       "      <td>900.24</td>\n",
       "      <td>675.18</td>\n",
       "      <td>Central</td>\n",
       "      <td>Illinois</td>\n",
       "      <td>Istinye Park</td>\n",
       "    </tr>\n",
       "    <tr>\n",
       "      <th>99940</th>\n",
       "      <td>I100487</td>\n",
       "      <td>10/30/2016 11:45</td>\n",
       "      <td>C213360</td>\n",
       "      <td>Female</td>\n",
       "      <td>22.0</td>\n",
       "      <td>Cosmetics</td>\n",
       "      <td>4</td>\n",
       "      <td>162.64</td>\n",
       "      <td>130.11</td>\n",
       "      <td>Central</td>\n",
       "      <td>Illinois</td>\n",
       "      <td>Kanyon</td>\n",
       "    </tr>\n",
       "    <tr>\n",
       "      <th>99941</th>\n",
       "      <td>I206026</td>\n",
       "      <td>10/30/2016 11:45</td>\n",
       "      <td>C225105</td>\n",
       "      <td>Female</td>\n",
       "      <td>27.0</td>\n",
       "      <td>Books</td>\n",
       "      <td>1</td>\n",
       "      <td>15.15</td>\n",
       "      <td>10.60</td>\n",
       "      <td>West</td>\n",
       "      <td>Washington</td>\n",
       "      <td>Viaport Outlet</td>\n",
       "    </tr>\n",
       "    <tr>\n",
       "      <th>99942</th>\n",
       "      <td>I332620</td>\n",
       "      <td>10/30/2016 11:45</td>\n",
       "      <td>C158124</td>\n",
       "      <td>Female</td>\n",
       "      <td>68.0</td>\n",
       "      <td>Cosmetics</td>\n",
       "      <td>2</td>\n",
       "      <td>81.32</td>\n",
       "      <td>56.92</td>\n",
       "      <td>West</td>\n",
       "      <td>Washington</td>\n",
       "      <td>Zorlu Center</td>\n",
       "    </tr>\n",
       "    <tr>\n",
       "      <th>99943</th>\n",
       "      <td>I434161</td>\n",
       "      <td>10/30/2016 11:45</td>\n",
       "      <td>C246484</td>\n",
       "      <td>Female</td>\n",
       "      <td>48.0</td>\n",
       "      <td>Clothing</td>\n",
       "      <td>2</td>\n",
       "      <td>600.16</td>\n",
       "      <td>450.12</td>\n",
       "      <td>West</td>\n",
       "      <td>Washington</td>\n",
       "      <td>Metropol AVM</td>\n",
       "    </tr>\n",
       "    <tr>\n",
       "      <th>99944</th>\n",
       "      <td>I166306</td>\n",
       "      <td>10/30/2016 11:45</td>\n",
       "      <td>C197019</td>\n",
       "      <td>Female</td>\n",
       "      <td>56.0</td>\n",
       "      <td>Clothing</td>\n",
       "      <td>3</td>\n",
       "      <td>900.24</td>\n",
       "      <td>675.18</td>\n",
       "      <td>West</td>\n",
       "      <td>Arizona</td>\n",
       "      <td>Viaport Outlet</td>\n",
       "    </tr>\n",
       "    <tr>\n",
       "      <th>99945</th>\n",
       "      <td>I207389</td>\n",
       "      <td>10/30/2016 11:46</td>\n",
       "      <td>C947114</td>\n",
       "      <td>Male</td>\n",
       "      <td>25.0</td>\n",
       "      <td>Clothing</td>\n",
       "      <td>3</td>\n",
       "      <td>900.24</td>\n",
       "      <td>675.18</td>\n",
       "      <td>West</td>\n",
       "      <td>Arizona</td>\n",
       "      <td>Kanyon</td>\n",
       "    </tr>\n",
       "    <tr>\n",
       "      <th>99946</th>\n",
       "      <td>I237018</td>\n",
       "      <td>10/30/2016 11:46</td>\n",
       "      <td>C115431</td>\n",
       "      <td>Male</td>\n",
       "      <td>30.0</td>\n",
       "      <td>Food &amp; Beverage</td>\n",
       "      <td>4</td>\n",
       "      <td>20.92</td>\n",
       "      <td>15.69</td>\n",
       "      <td>West</td>\n",
       "      <td>Arizona</td>\n",
       "      <td>Zorlu Center</td>\n",
       "    </tr>\n",
       "    <tr>\n",
       "      <th>99947</th>\n",
       "      <td>I246114</td>\n",
       "      <td>10/30/2016 11:46</td>\n",
       "      <td>C266394</td>\n",
       "      <td>Female</td>\n",
       "      <td>49.0</td>\n",
       "      <td>Toys</td>\n",
       "      <td>5</td>\n",
       "      <td>179.20</td>\n",
       "      <td>143.36</td>\n",
       "      <td>West</td>\n",
       "      <td>Arizona</td>\n",
       "      <td>Metropol AVM</td>\n",
       "    </tr>\n",
       "    <tr>\n",
       "      <th>99948</th>\n",
       "      <td>I216889</td>\n",
       "      <td>10/30/2016 11:46</td>\n",
       "      <td>C122371</td>\n",
       "      <td>Male</td>\n",
       "      <td>57.0</td>\n",
       "      <td>Clothing</td>\n",
       "      <td>2</td>\n",
       "      <td>600.16</td>\n",
       "      <td>450.12</td>\n",
       "      <td>West</td>\n",
       "      <td>Arizona</td>\n",
       "      <td>Zorlu Center</td>\n",
       "    </tr>\n",
       "  </tbody>\n",
       "</table>\n",
       "</div>"
      ],
      "text/plain": [
       "      invoice_num      invoice_date customer_id  gender   age  \\\n",
       "99939     I301404  10/30/2016 11:44     C232103    Male  40.0   \n",
       "99940     I100487  10/30/2016 11:45     C213360  Female  22.0   \n",
       "99941     I206026  10/30/2016 11:45     C225105  Female  27.0   \n",
       "99942     I332620  10/30/2016 11:45     C158124  Female  68.0   \n",
       "99943     I434161  10/30/2016 11:45     C246484  Female  48.0   \n",
       "99944     I166306  10/30/2016 11:45     C197019  Female  56.0   \n",
       "99945     I207389  10/30/2016 11:46     C947114    Male  25.0   \n",
       "99946     I237018  10/30/2016 11:46     C115431    Male  30.0   \n",
       "99947     I246114  10/30/2016 11:46     C266394  Female  49.0   \n",
       "99948     I216889  10/30/2016 11:46     C122371    Male  57.0   \n",
       "\n",
       "              category  quantity  selling_price_per_unit  cost_price_per_unit  \\\n",
       "99939         Clothing         3                  900.24               675.18   \n",
       "99940        Cosmetics         4                  162.64               130.11   \n",
       "99941            Books         1                   15.15                10.60   \n",
       "99942        Cosmetics         2                   81.32                56.92   \n",
       "99943         Clothing         2                  600.16               450.12   \n",
       "99944         Clothing         3                  900.24               675.18   \n",
       "99945         Clothing         3                  900.24               675.18   \n",
       "99946  Food & Beverage         4                   20.92                15.69   \n",
       "99947             Toys         5                  179.20               143.36   \n",
       "99948         Clothing         2                  600.16               450.12   \n",
       "\n",
       "        region       state   shopping_mall  \n",
       "99939  Central    Illinois    Istinye Park  \n",
       "99940  Central    Illinois          Kanyon  \n",
       "99941     West  Washington  Viaport Outlet  \n",
       "99942     West  Washington    Zorlu Center  \n",
       "99943     West  Washington    Metropol AVM  \n",
       "99944     West     Arizona  Viaport Outlet  \n",
       "99945     West     Arizona          Kanyon  \n",
       "99946     West     Arizona    Zorlu Center  \n",
       "99947     West     Arizona    Metropol AVM  \n",
       "99948     West     Arizona    Zorlu Center  "
      ]
     },
     "metadata": {},
     "output_type": "display_data"
    },
    {
     "name": "stdout",
     "output_type": "stream",
     "text": [
      "Общее количество строк: 99949\n",
      "Общее количество полей: 12\n",
      "\n",
      "Типы данных в датасете:\n",
      "invoice_num                object\n",
      "invoice_date               object\n",
      "customer_id                object\n",
      "gender                     object\n",
      "age                       float64\n",
      "category                   object\n",
      "quantity                    int64\n",
      "selling_price_per_unit    float64\n",
      "cost_price_per_unit       float64\n",
      "region                     object\n",
      "state                      object\n",
      "shopping_mall              object\n",
      "dtype: object\n",
      "\n",
      "Количество пустых значений в датасете:\n",
      "invoice_num               0\n",
      "invoice_date              0\n",
      "customer_id               0\n",
      "gender                    6\n",
      "age                       6\n",
      "category                  0\n",
      "quantity                  0\n",
      "selling_price_per_unit    0\n",
      "cost_price_per_unit       0\n",
      "region                    0\n",
      "state                     0\n",
      "shopping_mall             0\n",
      "dtype: int64\n"
     ]
    }
   ],
   "source": [
    "#a. Открытие файла Product_Sales.csv\n",
    "product_sales_df = pd.read_csv('Product_Sales.csv')\n",
    "\n",
    "# вывод первых 10 строк из датафрейма Product_Sales.csv\n",
    "display(product_sales_df.tail(10))\n",
    "\n",
    "#b. Общее количество строк и полей\n",
    "total_rows = product_sales_df.shape[0]\n",
    "total_columns = product_sales_df.shape[1]\n",
    "\n",
    "#d. Типы данных\n",
    "column_data_types = product_sales_df.dtypes\n",
    "\n",
    "#e. Пустые значения\n",
    "null_values = product_sales_df.isnull().sum()\n",
    "\n",
    "\n",
    "print(f\"Общее количество строк: {total_rows}\")\n",
    "print(f\"Общее количество полей: {total_columns}\")\n",
    "print(\"\\nТипы данных в датасете:\")\n",
    "print(column_data_types)\n",
    "print(\"\\nКоличество пустых значений в датасете:\")\n",
    "print(null_values)"
   ]
  },
  {
   "cell_type": "markdown",
   "metadata": {},
   "source": [
    "b. Похожие результаты выводит функция info ()"
   ]
  },
  {
   "cell_type": "code",
   "execution_count": 75,
   "metadata": {},
   "outputs": [
    {
     "name": "stdout",
     "output_type": "stream",
     "text": [
      "<class 'pandas.core.frame.DataFrame'>\n",
      "RangeIndex: 99949 entries, 0 to 99948\n",
      "Data columns (total 13 columns):\n",
      " #   Column                  Non-Null Count  Dtype   \n",
      "---  ------                  --------------  -----   \n",
      " 0   invoice_num             99949 non-null  object  \n",
      " 1   invoice_date            99949 non-null  object  \n",
      " 2   customer_id             99949 non-null  object  \n",
      " 3   gender                  99943 non-null  object  \n",
      " 4   age                     99943 non-null  float64 \n",
      " 5   category                99949 non-null  object  \n",
      " 6   quantity                99949 non-null  int64   \n",
      " 7   selling_price_per_unit  99949 non-null  float64 \n",
      " 8   cost_price_per_unit     99949 non-null  float64 \n",
      " 9   region                  99949 non-null  object  \n",
      " 10  state                   99949 non-null  object  \n",
      " 11  shopping_mall           99949 non-null  object  \n",
      " 12  age_group               99943 non-null  category\n",
      "dtypes: category(1), float64(3), int64(1), object(8)\n",
      "memory usage: 9.2+ MB\n"
     ]
    }
   ],
   "source": [
    "#b.Информация о дата-сете\n",
    "product_sales_df.info()"
   ]
  },
  {
   "cell_type": "markdown",
   "metadata": {},
   "source": [
    "### Задание 2: \n",
    "Выведите список уникальных магазинов"
   ]
  },
  {
   "cell_type": "code",
   "execution_count": 51,
   "metadata": {},
   "outputs": [
    {
     "name": "stdout",
     "output_type": "stream",
     "text": [
      "['Kanyon' 'Viaport Outlet' 'Metrocity' 'Metropol AVM' 'Istinye Park'\n",
      " 'Mall of Istanbul' 'Zorlu Center']\n"
     ]
    }
   ],
   "source": [
    "# Получения списка уникальных магазинов\n",
    "\n",
    "unique_shopping_malls = product_sales_df['shopping_mall'].unique()\n",
    "print(unique_shopping_malls)"
   ]
  },
  {
   "cell_type": "markdown",
   "metadata": {},
   "source": [
    "### Задание 3:\n",
    "Посчитайте количество проданных товаров в разбивке по категориям. Выведите топ-3 наиболее продаваемых категорий товаров"
   ]
  },
  {
   "cell_type": "code",
   "execution_count": 52,
   "metadata": {},
   "outputs": [
    {
     "name": "stdout",
     "output_type": "stream",
     "text": [
      "category\n",
      "Clothing           104110\n",
      "Cosmetics           45802\n",
      "Food & Beverage     44512\n",
      "Name: quantity, dtype: int64\n"
     ]
    }
   ],
   "source": [
    "# Подсчет количества проданных товаров по категориям\n",
    "sales_by_category = product_sales_df.groupby('category')['quantity'].sum()\n",
    "\n",
    "# Сортировка категорий по количеству проданных товаров в убывающем порядке и получение топ-3\n",
    "top_3_categories = sales_by_category.sort_values(ascending=False).head(3)\n",
    "\n",
    "# Вывод результатов\n",
    "print(top_3_categories)"
   ]
  },
  {
   "cell_type": "markdown",
   "metadata": {},
   "source": [
    "### Задание 4:\n",
    "Посчитайте сумму продаж по штатам. Какой штат продает больше всего, а какой - меньше?"
   ]
  },
  {
   "cell_type": "code",
   "execution_count": 53,
   "metadata": {},
   "outputs": [
    {
     "name": "stdout",
     "output_type": "stream",
     "text": [
      "Штат с максимальной суммой продаж: California (13097040.15)\n",
      "Штат с минимальной суммой продаж: Indiana (939183.52)\n"
     ]
    }
   ],
   "source": [
    "# Подсчет суммы продаж по штатам\n",
    "sales_by_state = product_sales_df.groupby('state')['selling_price_per_unit'].sum()\n",
    "\n",
    "# Нахождение штата с максимальной суммой продаж\n",
    "state_max_sales = sales_by_state.idxmax()\n",
    "max_sales = sales_by_state.max()\n",
    "\n",
    "# Нахождение штата с минимальной суммой продаж\n",
    "state_min_sales = sales_by_state.idxmin()\n",
    "min_sales = sales_by_state.min()\n",
    "\n",
    "# Вывод результатов\n",
    "print(f\"Штат с максимальной суммой продаж: {state_max_sales} ({max_sales:.2f})\")\n",
    "print(f\"Штат с минимальной суммой продаж: {state_min_sales} ({min_sales:.2f})\")"
   ]
  },
  {
   "cell_type": "markdown",
   "metadata": {},
   "source": [
    "### Задание 5:\n",
    "Разбейте покупателей на возрастные группы. Группы определите самостоятельно. Какая из этих групп тратит больше всего денег на одежду?"
   ]
  },
  {
   "cell_type": "markdown",
   "metadata": {},
   "source": [
    "##### Вариант 1 "
   ]
  },
  {
   "cell_type": "markdown",
   "metadata": {},
   "source": [
    "Один из вариантов разбить возрастные группы по этапам жизненного цикла человека. Для определения возрастных групп использовал десятилетия"
   ]
  },
  {
   "cell_type": "code",
   "execution_count": 77,
   "metadata": {},
   "outputs": [
    {
     "name": "stdout",
     "output_type": "stream",
     "text": [
      "Возрастная группа, тратящая больше всего денег на одежду: 19-30, с суммой продаж: 7261635.92\n"
     ]
    }
   ],
   "source": [
    "# Определение возрастных групп\n",
    "bins = [0, 18, 30, 40, 50, 60, 70, 100]\n",
    "labels = ['0-18', '19-30', '31-40', '41-50', '51-60', '61-70', '71-100']\n",
    "# делим покупателей на заданные возрастные группы с помощью функции pd.cut()\n",
    "product_sales_df['age_group'] = pd.cut(product_sales_df['age'], bins=bins, labels=labels, right=False)\n",
    "\n",
    "# Фильтрация данных по категории 'Clothing' и подсчет суммы продаж по возрастным группам\n",
    "clothing_sales_by_age_group = product_sales_df[product_sales_df['category'] == 'Clothing'].groupby('age_group')['selling_price_per_unit'].sum()\n",
    "\n",
    "# Нахождение возрастной группы с максимальной суммой продаж одежды\n",
    "max_clothing_sales_age_group = clothing_sales_by_age_group.idxmax()\n",
    "max_clothing_sales = clothing_sales_by_age_group.max()\n",
    "\n",
    "print(f\"Возрастная группа, тратящая больше всего денег на одежду: {max_clothing_sales_age_group}, с суммой продаж: {max_clothing_sales}\")"
   ]
  },
  {
   "cell_type": "markdown",
   "metadata": {},
   "source": [
    "##### Вариант 2"
   ]
  },
  {
   "cell_type": "markdown",
   "metadata": {},
   "source": [
    "Второй вариант, адаптировать границы группы под наши данные, с использованием гистограммы, я сделал это с использованием библиотеки matplotlib\n",
    "Далее разделил всех покупателей на возрастные группы в соответствии с гистограммой и подсчитал сумму продаж товаров категории одежда, группируя по полученным групами. Группу 0-18 я исключил по причине нулевых трат  "
   ]
  },
  {
   "cell_type": "code",
   "execution_count": 72,
   "metadata": {},
   "outputs": [
    {
     "data": {
      "image/png": "[encoded data removed]",
      "text/plain": [
       "<Figure size 1000x600 with 1 Axes>"
      ]
     },
     "metadata": {},
     "output_type": "display_data"
    }
   ],
   "source": [
    "  import matplotlib.pyplot as plt\n",
    "\n",
    "# Построение гистограммы распределения возрастов\n",
    "plt.figure(figsize=(10, 6))\n",
    "plt.hist(data['age'].dropna(), bins=30, color='skyblue', edgecolor='black')\n",
    "plt.title('Распределение возрастов покупателей')\n",
    "plt.xlabel('Возраст')\n",
    "plt.ylabel('Количество покупателей')\n",
    "plt.grid(axis='y', alpha=0.75)\n",
    "plt.show()"
   ]
  },
  {
   "cell_type": "markdown",
   "metadata": {},
   "source": [
    "В результате рассчитал и отобразил возрастную группу, которая тратит больше всего денег на товары категории одежда"
   ]
  },
  {
   "cell_type": "code",
   "execution_count": 71,
   "metadata": {},
   "outputs": [
    {
     "name": "stdout",
     "output_type": "stream",
     "text": [
      "Возрастная группа, тратящая больше всего денег на одежду: 46-60, с суммой продаж: 9001499.76\n"
     ]
    }
   ],
   "source": [
    "# Определение возрастных групп\n",
    "bins2 = [18, 30, 45, 60, 100]\n",
    "labels2 = ['18-30', '31-45', '46-60', '61-100']\n",
    "# делим покупателей на заданные возрастные группы с помощью функции pd.cut()\n",
    "product_sales_df['age_group'] = pd.cut(product_sales_df['age'], bins=bins2, labels=labels2, right=False)\n",
    "\n",
    "# Фильтрация данных по категории 'Clothing' и подсчет суммы продаж по возрастным группам\n",
    "clothing_sales_by_age_group2 = product_sales_df[product_sales_df['category'] == 'Clothing'].groupby('age_group')['selling_price_per_unit'].sum()\n",
    "\n",
    "# Нахождение возрастной группы с максимальной суммой продаж одежды\n",
    "max_clothing_sales_age_group2 = clothing_sales_by_age_group2.idxmax()\n",
    "max_clothing_sales2 = clothing_sales_by_age_group2.max()\n",
    "\n",
    "print(f\"Возрастная группа, тратящая больше всего денег на одежду: {max_clothing_sales_age_group2}, с суммой продаж: {max_clothing_sales2}\")"
   ]
  },
  {
   "cell_type": "markdown",
   "metadata": {},
   "source": [
    "### Задание 6:\n",
    "Какая доля всех покупок оплачивалась наличными? Используйте файл Product_Payment.csv, чтобы подтянуть метод оплаты"
   ]
  },
  {
   "cell_type": "code",
   "execution_count": 61,
   "metadata": {},
   "outputs": [
    {
     "name": "stdout",
     "output_type": "stream",
     "text": [
      "Доля покупок, оплаченных наличными: 44.64%\n"
     ]
    }
   ],
   "source": [
    "# Загрузка файла Product_Payment.csv\n",
    "product_payment_df = pd.read_csv('Product_Payment.csv')\n",
    "\n",
    "# Объединение данных о продажах с данными о способе оплаты по номеру счета\n",
    "merged_df = product_sales_df.merge(product_payment_df, on='invoice_num')\n",
    "\n",
    "# Подсчет количества покупок, оплаченных наличными\n",
    "cash_payments_count = merged_df[merged_df['payment_method'] == 'Cash']['quantity'].sum()\n",
    "\n",
    "# Подсчет общего количества покупок\n",
    "total_purchases_count = merged_df['quantity'].sum()\n",
    "\n",
    "# Расчет доли покупок, оплаченных наличными\n",
    "cash_payment_share = cash_payments_count / total_purchases_count\n",
    "\n",
    "# Вывод результата\n",
    "print(f\"Доля покупок, оплаченных наличными: {cash_payment_share:.2%}\")"
   ]
  },
  {
   "cell_type": "code",
   "execution_count": null,
   "metadata": {},
   "outputs": [],
   "source": []
  }
 ],
 "metadata": {
  "kernelspec": {
   "display_name": "Python 3 (ipykernel)",
   "language": "python",
   "name": "python3"
  },
  "language_info": {
   "codemirror_mode": {
    "name": "ipython",
    "version": 3
   },
   "file_extension": ".py",
   "mimetype": "text/x-python",
   "name": "python",
   "nbconvert_exporter": "python",
   "pygments_lexer": "ipython3",
   "version": "3.11.5"
  }
 },
 "nbformat": 4,
 "nbformat_minor": 4
}
