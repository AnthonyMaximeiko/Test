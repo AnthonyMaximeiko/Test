{
 "cells": [
  {
   "cell_type": "code",
   "execution_count": 11,
   "metadata": {},
   "outputs": [],
   "source": [
    "import pandas as pd"
   ]
  },
  {
   "cell_type": "markdown",
   "metadata": {},
   "source": [
    "Откройте файл Product_Sales.csv и выведите первые 10 строк.\n",
    "Посмотрите на данные и скажите, что они из себя представляют.\n",
    "Cколько в таблице строк и полей? Какие типы данных есть в датасете? Есть ли пустые значения?"
   ]
  },
  {
   "cell_type": "code",
   "execution_count": null,
   "metadata": {},
   "outputs": [],
   "source": [
    "# invoice_num: Номер счета\n",
    "# customer_id: ID клиента\n",
    "# gender: Пол клиента\n",
    "# age: Возраст клиента\n",
    "# category: Категория товара\n",
    "# quantity: Количество проданных товаров в рамках одного счета\n",
    "# selling_price_per_unit: Стоимость продажи 1 ед.товара\n",
    "# cost_price_per_unit: Себестоимость 1 ед.товара\n",
    "# region: Регион\n",
    "# state: Штат\n",
    "# shopping_mall: Магазин"
   ]
  },
  {
   "cell_type": "code",
   "execution_count": 12,
   "metadata": {},
   "outputs": [
    {
     "name": "stdout",
     "output_type": "stream",
     "text": [
      "Общее количество строк: 99949\n",
      "Общее количество полей: 12\n",
      "\n",
      "Типы данных в датасете:\n",
      "invoice_num                object\n",
      "invoice_date               object\n",
      "customer_id                object\n",
      "gender                     object\n",
      "age                       float64\n",
      "category                   object\n",
      "quantity                    int64\n",
      "selling_price_per_unit    float64\n",
      "cost_price_per_unit       float64\n",
      "region                     object\n",
      "state                      object\n",
      "shopping_mall              object\n",
      "dtype: object\n",
      "\n",
      "Пустые значения в датасете:\n",
      "invoice_num               0\n",
      "invoice_date              0\n",
      "customer_id               0\n",
      "gender                    6\n",
      "age                       6\n",
      "category                  0\n",
      "quantity                  0\n",
      "selling_price_per_unit    0\n",
      "cost_price_per_unit       0\n",
      "region                    0\n",
      "state                     0\n",
      "shopping_mall             0\n",
      "dtype: int64\n"
     ]
    }
   ],
   "source": [
    "# вывода первых 10 строк из датафрейма Product_Sales.csv\n",
    "\n",
    "product_sales_df = pd.read_csv('Product_Sales.csv')\n",
    "\n",
    "# Общее количество строк и полей\n",
    "total_rows = product_sales_df.shape[0]\n",
    "total_columns = product_sales_df.shape[1]\n",
    "\n",
    "# Типы данных\n",
    "column_data_types = product_sales_df.dtypes\n",
    "\n",
    "# Пустые значения\n",
    "null_values = product_sales_df.isnull().sum()\n",
    "\n",
    "print(f\"Общее количество строк: {total_rows}\")\n",
    "print(f\"Общее количество полей: {total_columns}\")\n",
    "print(\"\\nТипы данных в датасете:\")\n",
    "print(column_data_types)\n",
    "print(\"\\nПустые значения в датасете:\")\n",
    "print(null_values)"
   ]
  },
  {
   "cell_type": "markdown",
   "metadata": {},
   "source": [
    "Выведите список уникальных магазинов"
   ]
  },
  {
   "cell_type": "code",
   "execution_count": 13,
   "metadata": {},
   "outputs": [
    {
     "name": "stdout",
     "output_type": "stream",
     "text": [
      "['Kanyon' 'Viaport Outlet' 'Metrocity' 'Metropol AVM' 'Istinye Park'\n",
      " 'Mall of Istanbul' 'Zorlu Center']\n"
     ]
    }
   ],
   "source": [
    "# Получения списка уникальных магазинов\n",
    "\n",
    "unique_shopping_malls = product_sales_df['shopping_mall'].unique()\n",
    "print(unique_shopping_malls)"
   ]
  },
  {
   "cell_type": "markdown",
   "metadata": {},
   "source": [
    "Посчитайте количество проданных товаров в разбивке по категориям. Выведите топ-3 наиболее продаваемых категорий товаров"
   ]
  },
  {
   "cell_type": "code",
   "execution_count": 14,
   "metadata": {},
   "outputs": [
    {
     "name": "stdout",
     "output_type": "stream",
     "text": [
      "category\n",
      "Clothing           104110\n",
      "Cosmetics           45802\n",
      "Food & Beverage     44512\n",
      "Name: quantity, dtype: int64\n"
     ]
    }
   ],
   "source": [
    "# Подсчет количества проданных товаров по категориям\n",
    "sales_by_category = product_sales_df.groupby('category')['quantity'].sum()\n",
    "\n",
    "# Сортировка категорий по количеству проданных товаров в убывающем порядке и получение топ-3\n",
    "top_3_categories = sales_by_category.sort_values(ascending=False).head(3)\n",
    "\n",
    "# Вывод результатов\n",
    "print(top_3_categories)"
   ]
  },
  {
   "cell_type": "markdown",
   "metadata": {},
   "source": [
    "Посчитайте сумму продаж по штатам. Какой штат продает больше всего, а какой - меньше?"
   ]
  },
  {
   "cell_type": "code",
   "execution_count": 27,
   "metadata": {},
   "outputs": [
    {
     "name": "stdout",
     "output_type": "stream",
     "text": [
      "Штат с максимальной суммой продаж: California (13097040.15)\n",
      "Штат с минимальной суммой продаж: Indiana (939183.52)\n"
     ]
    }
   ],
   "source": [
    "# Подсчет суммы продаж по штатам\n",
    "sales_by_state = product_sales_df.groupby('state')['selling_price_per_unit'].sum()\n",
    "\n",
    "# Нахождение штата с максимальной суммой продаж\n",
    "state_max_sales = sales_by_state.idxmax()\n",
    "max_sales = sales_by_state.max()\n",
    "\n",
    "# Нахождение штата с минимальной суммой продаж\n",
    "state_min_sales = sales_by_state.idxmin()\n",
    "min_sales = sales_by_state.min()\n",
    "\n",
    "# Вывод результатов\n",
    "print(f\"Штат с максимальной суммой продаж: {state_max_sales} ({max_sales:.2f})\")\n",
    "print(f\"Штат с минимальной суммой продаж: {state_min_sales} ({min_sales:.2f})\")"
   ]
  },
  {
   "cell_type": "markdown",
   "metadata": {},
   "source": [
    "Разбейте покупателей на возрастные группы. Группы определите самостоятельно. Какая из этих групп тратит больше всего денег на одежду?"
   ]
  },
  {
   "cell_type": "code",
   "execution_count": 23,
   "metadata": {},
   "outputs": [
    {
     "name": "stdout",
     "output_type": "stream",
     "text": [
      "Возрастная группа, тратящая больше всего денег на одежду: 19-30, с суммой продаж: 7261635.92\n"
     ]
    }
   ],
   "source": [
    "# Определение возрастных групп\n",
    "bins = [0, 18, 30, 40, 50, 60, 70, 100]\n",
    "labels = ['0-18', '19-30', '31-40', '41-50', '51-60', '61-70', '71-100']\n",
    "# делим покупателей на заданные возрастные группы с помощью функции pd.cut()\n",
    "product_sales_df['age_group'] = pd.cut(product_sales_df['age'], bins=bins, labels=labels, right=False)\n",
    "\n",
    "# Фильтрация данных по категории 'Clothing' и подсчет суммы продаж по возрастным группам\n",
    "clothing_sales_by_age_group = product_sales_df[product_sales_df['category'] == 'Clothing'].groupby('age_group')['selling_price_per_unit'].sum()\n",
    "\n",
    "# Нахождение возрастной группы с максимальной суммой продаж одежды\n",
    "max_clothing_sales_age_group = clothing_sales_by_age_group.idxmax()\n",
    "max_clothing_sales = clothing_sales_by_age_group.max()\n",
    "\n",
    "print(f\"Возрастная группа, тратящая больше всего денег на одежду: {max_clothing_sales_age_group}, с суммой продаж: {max_clothing_sales}\")"
   ]
  },
  {
   "cell_type": "markdown",
   "metadata": {},
   "source": [
    "Какая доля всех покупок оплачивалась наличными? Используйте файл Product_Payment.csv, чтобы подтянуть метод оплаты"
   ]
  },
  {
   "cell_type": "code",
   "execution_count": 28,
   "metadata": {},
   "outputs": [
    {
     "name": "stdout",
     "output_type": "stream",
     "text": [
      "Доля покупок, оплаченных наличными: 44.64%\n"
     ]
    }
   ],
   "source": [
    "# Загрузка файла Product_Payment.csv\n",
    "product_payment_df = pd.read_csv('Product_Payment.csv')\n",
    "\n",
    "# Объединение данных о продажах с данными о способе оплаты по номеру счета\n",
    "merged_df = product_sales_df.merge(product_payment_df, on='invoice_num')\n",
    "\n",
    "# Подсчет количества покупок, оплаченных наличными\n",
    "cash_payments_count = merged_df[merged_df['payment_method'] == 'Cash']['quantity'].sum()\n",
    "\n",
    "# Подсчет общего количества покупок\n",
    "total_purchases_count = merged_df['quantity'].sum()\n",
    "\n",
    "# Расчет доли покупок, оплаченных наличными\n",
    "cash_payment_share = cash_payments_count / total_purchases_count\n",
    "\n",
    "# Вывод результата\n",
    "print(f\"Доля покупок, оплаченных наличными: {cash_payment_share:.2%}\")"
   ]
  },
  {
   "cell_type": "code",
   "execution_count": null,
   "metadata": {},
   "outputs": [],
   "source": []
  }
 ],
 "metadata": {
  "kernelspec": {
   "display_name": "Python 3 (ipykernel)",
   "language": "python",
   "name": "python3"
  },
  "language_info": {
   "codemirror_mode": {
    "name": "ipython",
    "version": 3
   },
   "file_extension": ".py",
   "mimetype": "text/x-python",
   "name": "python",
   "nbconvert_exporter": "python",
   "pygments_lexer": "ipython3",
   "version": "3.11.5"
  }
 },
 "nbformat": 4,
 "nbformat_minor": 4
}
